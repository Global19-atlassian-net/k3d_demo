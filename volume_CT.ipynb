{
 "cells": [
  {
   "cell_type": "code",
   "execution_count": null,
   "metadata": {},
   "outputs": [],
   "source": [
    "import k3d\n",
    "import math\n",
    "import numpy as np\n",
    "from ipywidgets import interact, interactive, fixed\n",
    "import ipywidgets as widgets"
   ]
  },
  {
   "cell_type": "code",
   "execution_count": null,
   "metadata": {},
   "outputs": [],
   "source": [
    "img = np.load('./data/ct.npz')['arr_0']\n",
    "size = np.array([184.999936, 184.999936, 158.5     ])"
   ]
  },
  {
   "cell_type": "code",
   "execution_count": null,
   "metadata": {
    "scrolled": false
   },
   "outputs": [],
   "source": [
    "volume = k3d.volume(\n",
    "    img.astype(np.float32), \n",
    "    alpha_coef=300,\n",
    "    color_range=[50,550], \n",
    "    color_map=(np.array(k3d.colormaps.matplotlib_color_maps.Gist_heat).reshape(-1,4) \n",
    "               * np.array([1,2.0,2.0,2.0])).astype(np.float32)\n",
    ")\n",
    "\n",
    "volume.transform.bounds = [-size[0]/2,size[0]/2,\n",
    "                           -size[1]/2,size[1]/2,\n",
    "                           -size[2]/2,size[2]/2]\n",
    "\n",
    "plot = k3d.plot(height=540)\n",
    "plot += volume\n",
    "plot.display()\n",
    "volume.color_range = [13,500]\n",
    "\n",
    "@interact(minmax = widgets.FloatRangeSlider(min=img.min(),max=img.max(),\n",
    "                                            value=volume.color_range))\n",
    "def _(minmax):\n",
    "    volume.color_range = minmax"
   ]
  },
  {
   "cell_type": "code",
   "execution_count": null,
   "metadata": {},
   "outputs": [],
   "source": [
    "plot.fps_meter = True\n",
    "plot.camera_auto_fit = False\n",
    "plot.lighting = 2.5"
   ]
  },
  {
   "cell_type": "code",
   "execution_count": null,
   "metadata": {},
   "outputs": [],
   "source": [
    "plot.clipping_planes = [[-0.8307592861780411, 0.49042419812919297, 0.26329282997888437, 1]]\n"
   ]
  },
  {
   "cell_type": "code",
   "execution_count": null,
   "metadata": {},
   "outputs": [],
   "source": []
  }
 ],
 "metadata": {
  "kernelspec": {
   "display_name": "Python 3",
   "language": "python",
   "name": "python3"
  },
  "language_info": {
   "codemirror_mode": {
    "name": "ipython",
    "version": 3
   },
   "file_extension": ".py",
   "mimetype": "text/x-python",
   "name": "python",
   "nbconvert_exporter": "python",
   "pygments_lexer": "ipython3",
   "version": "3.7.3"
  },
  "nbTranslate": {
   "displayLangs": [
    "en",
    "pl"
   ],
   "hotkey": "alt-t",
   "langInMainMenu": true,
   "sourceLang": "pl",
   "targetLang": "en",
   "useGoogleTranslate": true
  }
 },
 "nbformat": 4,
 "nbformat_minor": 2
}
