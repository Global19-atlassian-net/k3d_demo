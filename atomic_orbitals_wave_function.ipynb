{
 "cells": [
  {
   "cell_type": "markdown",
   "metadata": {},
   "source": [
    "# Hydrogen atom\n",
    "\n",
    "\\begin{equation}\n",
    "\\label{eq1}\n",
    "-\\frac{\\hbar^2}{2 \\mu} \\left[ \\frac{1}{r^2} \\frac{\\partial }{\\partial r} \\left( r^2 \\frac{ \\partial \\psi}{\\partial r}\\right) + \\frac{1}{r^2 \\sin \\theta} \\frac{\\partial }{\\partial \\theta} \\left( \\sin \\theta \\frac{\\partial \\psi}{\\partial \\theta}\\right) + \\frac{1}{r^2 \\sin^2 \\theta} \\frac{\\partial^2 \\psi}{\\partial \\phi^2} \\right] - \\frac{e^2}{ 4 \\pi \\epsilon_0 r} \\psi= E \\psi\n",
    "\\end{equation}\n",
    "\n",
    "\n",
    "\\begin{equation}\n",
    "\\label{eqsol1}\n",
    "\\psi_{n\\ell m}(r,\\vartheta,\\varphi) = \\sqrt {{\\left (  \\frac{2}{n a^*_0} \\right )}^3 \\frac{(n-\\ell-1)!}{2n(n+\\ell)!}} e^{- \\rho / 2} \\rho^{\\ell} L_{n-\\ell-1}^{2\\ell+1}(\\rho) Y_{\\ell}^{m}(\\vartheta, \\varphi ) \n",
    "\\end{equation}\n"
   ]
  },
  {
   "cell_type": "code",
   "execution_count": null,
   "metadata": {},
   "outputs": [],
   "source": [
    "import k3d\n",
    "from ipywidgets import interact, FloatSlider\n",
    "\n",
    "import numpy as np\n",
    "import scipy.special\n",
    "import scipy.misc\n",
    "\n",
    "r = lambda x,y,z: np.sqrt(x**2+y**2+z**2)\n",
    "theta = lambda x,y,z: np.arccos(z/r(x,y,z))\n",
    "phi = lambda x,y,z: np.arctan2(y,x)\n",
    "\n",
    "a0 = 1.\n",
    "R = lambda r,n,l: (2*r/(n*a0))**l * np.exp(-r/n/a0) * scipy.special.genlaguerre(n-l-1,2*l+1)(2*r/n/a0)\n",
    "WF = lambda r,theta,phi,n,l,m: R(r,n,l) * scipy.special.sph_harm(m,l,phi,theta)\n",
    "absWF = lambda r,theta,phi,n,l,m: abs(WF(r,theta,phi,n,l,m)).astype(np.float32)**2\n",
    "N = 50j\n",
    "a = 30.0\n",
    "x,y,z = np.ogrid[-a:a:N,-a:a:N,-a:a:N]\n",
    "x = x.astype(np.float32)\n",
    "y = y.astype(np.float32)\n",
    "z = z.astype(np.float32)\n",
    "\n",
    "\n"
   ]
  },
  {
   "cell_type": "code",
   "execution_count": null,
   "metadata": {},
   "outputs": [],
   "source": [
    "orbital = WF(r(x,y,z),theta(x,y,z),phi(x,y,z),4,1,0).real # 4p"
   ]
  },
  {
   "cell_type": "code",
   "execution_count": null,
   "metadata": {},
   "outputs": [],
   "source": [
    "plt_vol = k3d.volume(orbital)\n",
    "plt_label = k3d.text2d(r'n=1\\; l=0\\; m=0',(0.,0.))\n",
    "plot = k3d.plot()\n",
    "plot += plt_vol\n",
    "plot += plt_label\n",
    "\n",
    "plt_vol.opacity_function  = [0.        , 0.        , 0.21327923, 0.98025   , 0.32439035,\n",
    "       0.        , 0.5       , 0.        , 0.67560965, 0.        ,\n",
    "       0.74537706, 0.9915    , 1.        , 0.        ]\n",
    "\n",
    "plt_vol.color_map = k3d.colormaps.paraview_color_maps.Cool_to_Warm_Extended\n",
    "plt_vol.color_range = (-0.5,0.5)\n",
    "\n",
    "\n",
    "\n",
    "plot.display()"
   ]
  },
  {
   "cell_type": "markdown",
   "metadata": {},
   "source": [
    "## animation \n",
    "### single wave function is sent at a time"
   ]
  },
  {
   "cell_type": "code",
   "execution_count": null,
   "metadata": {},
   "outputs": [],
   "source": [
    "E = 4\n",
    "for l in range(E):\n",
    "    for m in range(-l,l+1):\n",
    "        psi2 = WF(r(x,y,z),theta(x,y,z),phi(x,y,z),E,l,m).real\n",
    "        plt_vol.volume =  psi2/np.max(psi2)\n",
    "        plt_label.text = 'n=%d \\quad l=%d \\quad m=%d'%(E,l,m)\n",
    "    \n"
   ]
  },
  {
   "cell_type": "markdown",
   "metadata": {},
   "source": [
    "### using time series \n",
    "\n",
    " - series of volumetric data are sent to k3d, \n",
    " - player interpolates between  "
   ]
  },
  {
   "cell_type": "code",
   "execution_count": null,
   "metadata": {},
   "outputs": [],
   "source": [
    "E = 4\n",
    "psi_t = {}\n",
    "t = 0.0\n",
    "for l in range(E):\n",
    "    for m in range(-l,l+1):\n",
    "        \n",
    "        psi2 = WF(r(x,y,z),theta(x,y,z),phi(x,y,z),E,l,m)\n",
    "        psi_t[str(t)] = psi2.real/np.max(np.abs(psi2))\n",
    "        t += 0.3    \n",
    "plt_vol.volume = psi_t    \n"
   ]
  },
  {
   "cell_type": "code",
   "execution_count": null,
   "metadata": {},
   "outputs": [],
   "source": []
  },
  {
   "cell_type": "code",
   "execution_count": null,
   "metadata": {},
   "outputs": [],
   "source": []
  }
 ],
 "metadata": {
  "kernelspec": {
   "display_name": "Python 3",
   "language": "python",
   "name": "python3"
  },
  "language_info": {
   "codemirror_mode": {
    "name": "ipython",
    "version": 3
   },
   "file_extension": ".py",
   "mimetype": "text/x-python",
   "name": "python",
   "nbconvert_exporter": "python",
   "pygments_lexer": "ipython3",
   "version": "3.7.3"
  },
  "nbTranslate": {
   "displayLangs": [
    "en",
    "pl"
   ],
   "hotkey": "alt-t",
   "langInMainMenu": true,
   "sourceLang": "pl",
   "targetLang": "en",
   "useGoogleTranslate": true
  }
 },
 "nbformat": 4,
 "nbformat_minor": 2
}
