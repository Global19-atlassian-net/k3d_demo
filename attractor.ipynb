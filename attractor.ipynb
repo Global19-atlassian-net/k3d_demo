{
 "cells": [
  {
   "cell_type": "code",
   "execution_count": null,
   "metadata": {},
   "outputs": [],
   "source": [
    "import k3d\n",
    "import math\n",
    "import numpy as np"
   ]
  },
  {
   "cell_type": "code",
   "execution_count": null,
   "metadata": {},
   "outputs": [],
   "source": [
    "a = 1.5\n",
    "b = -1.8\n",
    "c = 1.6\n",
    "d = 0.9 \n",
    "\n",
    "# N = int(10e6)\n",
    "N = int(1e6)\n",
    "\n",
    "\n",
    "points = np.zeros(N * 3, dtype=np.float32)\n",
    "\n",
    "x = 0\n",
    "y = 0\n",
    "z = 0\n",
    "\n",
    "for i in range(N):\n",
    "    xn = math.sin(a * y) + c * math.cos(a * x)\n",
    "    yn = math.sin(b * x) + d * math.cos(b * y)\n",
    "    zn = math.sin(1.4 * (x + z))\n",
    "    \n",
    "    points[i * 3] = xn\n",
    "    points[i * 3 + 1] = yn\n",
    "    points[i * 3 + 2] = zn\n",
    "    \n",
    "    x = xn\n",
    "    y = yn\n",
    "    z = zn"
   ]
  },
  {
   "cell_type": "code",
   "execution_count": null,
   "metadata": {},
   "outputs": [],
   "source": [
    "plot = k3d.plot(grid=[-10,10,-10,10,-10,10], grid_auto_fit=False)\n",
    "\n",
    "plot += k3d.points(points, shader='flat', point_size=0.01, opacity=0.1)\n",
    "\n",
    "plot.display()"
   ]
  },
  {
   "cell_type": "code",
   "execution_count": null,
   "metadata": {},
   "outputs": [],
   "source": [
    "points.shape"
   ]
  },
  {
   "cell_type": "code",
   "execution_count": null,
   "metadata": {},
   "outputs": [],
   "source": []
  }
 ],
 "metadata": {
  "kernelspec": {
   "display_name": "Python 3",
   "language": "python",
   "name": "python3"
  },
  "language_info": {
   "codemirror_mode": {
    "name": "ipython",
    "version": 3
   },
   "file_extension": ".py",
   "mimetype": "text/x-python",
   "name": "python",
   "nbconvert_exporter": "python",
   "pygments_lexer": "ipython3",
   "version": "3.7.3"
  },
  "nbTranslate": {
   "displayLangs": [
    "en",
    "pl"
   ],
   "hotkey": "alt-t",
   "langInMainMenu": true,
   "sourceLang": "pl",
   "targetLang": "en",
   "useGoogleTranslate": true
  },
  "toc": {
   "base_numbering": 1,
   "nav_menu": {},
   "number_sections": true,
   "sideBar": true,
   "skip_h1_title": false,
   "title_cell": "Table of Contents",
   "title_sidebar": "Contents",
   "toc_cell": false,
   "toc_position": {},
   "toc_section_display": true,
   "toc_window_display": false
  }
 },
 "nbformat": 4,
 "nbformat_minor": 2
}
